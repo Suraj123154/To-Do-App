{
 "cells": [
  {
   "cell_type": "code",
   "execution_count": 5,
   "id": "ca3cb089",
   "metadata": {},
   "outputs": [],
   "source": [
    "todo_list=[]\n",
    "def load_tasks():\n",
    "    pass# You can add your logic\n"
   ]
  },
  {
   "cell_type": "code",
   "execution_count": 6,
   "id": "2ff405bb",
   "metadata": {},
   "outputs": [],
   "source": [
    "def show_tasks():\n",
    "    if not todo_list:\n",
    "        print(\"No tasks in the list.\")\n",
    "    else:\n",
    "        print(\"Your To_Do List:\")\n",
    "        for index, task in enumerate(todo_list,start=1):\n",
    "            print(f\"{index}.{task}\")\n"
   ]
  },
  {
   "cell_type": "code",
   "execution_count": 9,
   "id": "dac7eef8",
   "metadata": {},
   "outputs": [],
   "source": [
    "def add_task(task):\n",
    "    todo_list.append(task)\n",
    "    print(f'\"{task}\" has been added to your todo_list.')"
   ]
  },
  {
   "cell_type": "code",
   "execution_count": 10,
   "id": "ec2c81c7",
   "metadata": {},
   "outputs": [
    {
     "name": "stdout",
     "output_type": "stream",
     "text": [
      "\"Finish Python project\" has been added to your todo_list.\n",
      "\"Study Pandas Library\" has been added to your todo_list.\n",
      "Your To_Do List:\n",
      "1.Finish Python project\n",
      "2.Study Pandas Library\n"
     ]
    }
   ],
   "source": [
    "add_task(\"Finish Python project\")\n",
    "add_task(\"Study Pandas Library\")\n",
    "show_tasks()"
   ]
  },
  {
   "cell_type": "code",
   "execution_count": 17,
   "id": "6f065b2f",
   "metadata": {},
   "outputs": [],
   "source": [
    "def delete_task(task_number):\n",
    "    if 0 < task_number <= len(todo_list):\n",
    "        removed = todo_list.pop(task_number-1)\n",
    "        print(f'\"{removed}\"jas been removed from your todo_list.')\n",
    "    else:\n",
    "        print(\"Invalid task number.\")"
   ]
  },
  {
   "cell_type": "code",
   "execution_count": 13,
   "id": "122fc056",
   "metadata": {},
   "outputs": [],
   "source": [
    "def save_task():\n",
    "    with open (\"task.txt\",\"w\") as file:\n",
    "        for task in todo_list:\n",
    "            file.write(task + \"\\n\")\n",
    "            print(\"Tasks saved to 'tasks.txt\")"
   ]
  },
  {
   "cell_type": "code",
   "execution_count": 15,
   "id": "c8f85b30",
   "metadata": {},
   "outputs": [],
   "source": [
    "def load_tasks():\n",
    "    try:\n",
    "        with open(\"tasks.txt\",\"r\") as file:\n",
    "            for line in file:\n",
    "                todo_list.append(line.strip())\n",
    "                print(\"Tasks loaded from 'tasks.txt'\")\n",
    "    except FileNotFoundError:\n",
    "     print(\"No saved tasks found.\")\n"
   ]
  },
  {
   "cell_type": "code",
   "execution_count": 18,
   "id": "8f636c55",
   "metadata": {},
   "outputs": [
    {
     "name": "stdout",
     "output_type": "stream",
     "text": [
      "No saved tasks found.\n",
      "\"Read Data Science book\" has been added to your todo_list.\n",
      "Your To_Do List:\n",
      "1.Finish Python project\n",
      "2.Study Pandas Library\n",
      "3.Read Data Science book\n",
      "4.Read Data Science book\n",
      "\"Finish Python project\"jas been removed from your todo_list.\n",
      "Tasks saved to 'tasks.txt\n",
      "Tasks saved to 'tasks.txt\n",
      "Tasks saved to 'tasks.txt\n"
     ]
    }
   ],
   "source": [
    "load_tasks()\n",
    "add_task(\"Read Data Science book\")\n",
    "show_tasks()\n",
    "delete_task(1)\n",
    "save_task()"
   ]
  },
  {
   "cell_type": "markdown",
   "id": "bcaff131",
   "metadata": {},
   "source": []
  },
  {
   "cell_type": "markdown",
   "id": "569c75d6",
   "metadata": {},
   "source": []
  },
  {
   "cell_type": "code",
   "execution_count": 19,
   "id": "89f3edda",
   "metadata": {},
   "outputs": [],
   "source": [
    "def todo_menu():\n",
    "    while True:\n",
    "        print(\"\\n To-Do List Menu\")\n",
    "        print(\"1,Show tasks\")\n",
    "        print(\"2,Add task\")\n",
    "        print(\"3,Delete task\")\n",
    "        print(\"4,Save tasks\")\n",
    "        print(\"5,Load tasks\")\n",
    "        print(\"6,Exit\")\n",
    "        choice = input(\"Enter your choice (1-6):\")\n",
    "        if choice ==\"1\":\n",
    "            show_tasks()\n",
    "        elif choice==\"2\":\n",
    "            task= input(\"Enter the tas:\")\n",
    "            add_task(task)\n",
    "        elif choice==\"3\":\n",
    "            show_tasks()\n",
    "            try:\n",
    "                num=int(input(\"Enter task number to delete:\"))\n",
    "                delete_task(num)\n",
    "            except ValueError:\n",
    "                print(\"Invalid input. please enter a number:\")\n",
    "        elif choice ==\"4\":\n",
    "            save_tasks()\n",
    "        elif choice ==\"5\":\n",
    "            load_tasks()\n",
    "        elif choice ==\"6\":\n",
    "            print(\"Goodbye!\")\n",
    "            break\n",
    "        else:\n",
    "            print(\"Invalid choice.Please try again.\")"
   ]
  },
  {
   "cell_type": "code",
   "execution_count": null,
   "id": "5f16df0a",
   "metadata": {},
   "outputs": [
    {
     "name": "stdout",
     "output_type": "stream",
     "text": [
      "\n",
      " To-Do List Menu\n",
      "1,Show tasks\n",
      "2,Add task\n",
      "3,Delete task\n",
      "4,Save tasks\n",
      "5,Load tasks\n",
      "6,Exit\n"
     ]
    }
   ],
   "source": [
    "todo_menu()"
   ]
  },
  {
   "cell_type": "code",
   "execution_count": 1,
   "id": "1eda97ba",
   "metadata": {},
   "outputs": [
    {
     "name": "stdout",
     "output_type": "stream",
     "text": [
      "Alice, Welcome!\n"
     ]
    }
   ],
   "source": [
    "def greet(name, msg=\"Good Morning!\"): \n",
    "      print(name + \", \" + msg)\n",
    "\n",
    "greet(\"Alice\", msg=\"Welcome!\")"
   ]
  },
  {
   "cell_type": "code",
   "execution_count": 4,
   "id": "a3bca5f1",
   "metadata": {},
   "outputs": [
    {
     "ename": "SyntaxError",
     "evalue": "invalid syntax (3041813249.py, line 2)",
     "output_type": "error",
     "traceback": [
      "  \u001b[36mCell\u001b[39m\u001b[36m \u001b[39m\u001b[32mIn[4]\u001b[39m\u001b[32m, line 2\u001b[39m\n\u001b[31m    \u001b[39m\u001b[31m.split()))filtered_nums = list\u001b[39m\n              ^\n\u001b[31mSyntaxError\u001b[39m\u001b[31m:\u001b[39m invalid syntax\n"
     ]
    }
   ],
   "source": [
    "nums = list(map(int, input(\"Enter numbers separated by space: \")\n",
    "                .split()))filtered_nums = list\n",
    "(filter(lambda x: x % 3 == 0, nums))print(filtered_nums)"
   ]
  },
  {
   "cell_type": "code",
   "execution_count": null,
   "id": "7cc78c01",
   "metadata": {},
   "outputs": [],
   "source": [
    "nums = list(map(int, input(\"Enter numbers separated by space: \").split()))\n",
    "filtered_nums = list\n",
    "(filter(lambda x: x % 3 == 0, nums))\n",
    "print(filtered_nums)"
   ]
  },
  {
   "cell_type": "code",
   "execution_count": 1,
   "id": "1548a489",
   "metadata": {},
   "outputs": [],
   "source": [
    "age=20"
   ]
  },
  {
   "cell_type": "code",
   "execution_count": null,
   "id": "35b8b49e",
   "metadata": {},
   "outputs": [],
   "source": [
    "age=int(input(\"Enter your age:\"))\n",
    "if age>=18:\n",
    "    print(\"You are an adult.\")\n",
    "else:\n",
    "    print(\"You are a minor.\")\n",
    "\n"
   ]
  },
  {
   "cell_type": "code",
   "execution_count": 1,
   "id": "bbb7e9ab",
   "metadata": {},
   "outputs": [
    {
     "name": "stdout",
     "output_type": "stream",
     "text": [
      "hello\n"
     ]
    }
   ],
   "source": [
    "print(\"hello\")"
   ]
  },
  {
   "cell_type": "code",
   "execution_count": null,
   "id": "65ed1e5d",
   "metadata": {},
   "outputs": [],
   "source": [
    "num = int(input(\"Enter a number:\"))\n",
    "if num % 2==0:\n",
    "    print(\"even number.\")\n",
    "else:\n",
    "    print(\"odd number.\")"
   ]
  },
  {
   "cell_type": "code",
   "execution_count": null,
   "id": "ae53ea90",
   "metadata": {},
   "outputs": [],
   "source": []
  }
 ],
 "metadata": {
  "kernelspec": {
   "display_name": "Python 3",
   "language": "python",
   "name": "python3"
  },
  "language_info": {
   "codemirror_mode": {
    "name": "ipython",
    "version": 3
   },
   "file_extension": ".py",
   "mimetype": "text/x-python",
   "name": "python",
   "nbconvert_exporter": "python",
   "pygments_lexer": "ipython3",
   "version": "3.13.1"
  }
 },
 "nbformat": 4,
 "nbformat_minor": 5
}
